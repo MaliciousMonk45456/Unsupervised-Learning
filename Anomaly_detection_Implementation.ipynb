{
  "nbformat": 4,
  "nbformat_minor": 0,
  "metadata": {
    "colab": {
      "provenance": []
    },
    "kernelspec": {
      "name": "python3",
      "display_name": "Python 3"
    },
    "language_info": {
      "name": "python"
    }
  },
  "cells": [
    {
      "cell_type": "code",
      "execution_count": 17,
      "metadata": {
        "id": "zWEjH7C33d3k"
      },
      "outputs": [],
      "source": [
        "import numpy as np\n",
        "import matplotlib.pyplot as plt\n",
        "from sklearn import metrics"
      ]
    },
    {
      "cell_type": "code",
      "source": [
        "X_train = np.load(\"X_part2.npy\")\n",
        "X_val = np.load(\"X_val_part2.npy\")\n",
        "y_val = np.load(\"y_val_part2.npy\")"
      ],
      "metadata": {
        "id": "UCM8u4mXz_Ap"
      },
      "execution_count": 18,
      "outputs": []
    },
    {
      "cell_type": "code",
      "source": [
        "print ('The shape of X_train_high is:', X_train.shape)\n",
        "print ('The shape of X_val_high is:', X_val.shape)\n",
        "print ('The shape of y_val_high is: ', y_val.shape)"
      ],
      "metadata": {
        "colab": {
          "base_uri": "https://localhost:8080/"
        },
        "id": "TdKzfFpE1FfW",
        "outputId": "7becab99-db2f-42e7-db89-cb56353405b1"
      },
      "execution_count": 19,
      "outputs": [
        {
          "output_type": "stream",
          "name": "stdout",
          "text": [
            "The shape of X_train_high is: (1000, 11)\n",
            "The shape of X_val_high is: (100, 11)\n",
            "The shape of y_val_high is:  (100,)\n"
          ]
        }
      ]
    },
    {
      "cell_type": "code",
      "source": [
        "plt.hist(X_train[:,1],bins=50) # Check by x.hist(bins=50) if features are somewhat gaussian if not then try and convert by taking np.log(x+c) or x**(1/c)"
      ],
      "metadata": {
        "colab": {
          "base_uri": "https://localhost:8080/",
          "height": 742
        },
        "id": "8dX4c7Gr0orn",
        "outputId": "082b6fdc-be90-40a8-d471-270c03d99d79"
      },
      "execution_count": 20,
      "outputs": [
        {
          "output_type": "execute_result",
          "data": {
            "text/plain": [
              "(array([ 1.,  0.,  0.,  0.,  1.,  0.,  0.,  1.,  3.,  1.,  3.,  3.,  5.,\n",
              "         9.,  4., 11., 14., 18., 30., 30., 38., 39., 49., 43., 35., 57.,\n",
              "        60., 59., 58., 59., 49., 51., 36., 42., 43., 38., 18., 20., 19.,\n",
              "        16., 13.,  9.,  5.,  4.,  1.,  0.,  1.,  1.,  1.,  2.]),\n",
              " array([-38.59361317, -37.54794687, -36.50228057, -35.45661428,\n",
              "        -34.41094798, -33.36528169, -32.31961539, -31.27394909,\n",
              "        -30.2282828 , -29.1826165 , -28.13695021, -27.09128391,\n",
              "        -26.04561762, -24.99995132, -23.95428502, -22.90861873,\n",
              "        -21.86295243, -20.81728614, -19.77161984, -18.72595354,\n",
              "        -17.68028725, -16.63462095, -15.58895466, -14.54328836,\n",
              "        -13.49762206, -12.45195577, -11.40628947, -10.36062318,\n",
              "         -9.31495688,  -8.26929058,  -7.22362429,  -6.17795799,\n",
              "         -5.1322917 ,  -4.0866254 ,  -3.0409591 ,  -1.99529281,\n",
              "         -0.94962651,   0.09603978,   1.14170608,   2.18737237,\n",
              "          3.23303867,   4.27870497,   5.32437126,   6.37003756,\n",
              "          7.41570385,   8.46137015,   9.50703645,  10.55270274,\n",
              "         11.59836904,  12.64403533,  13.68970163]),\n",
              " <BarContainer object of 50 artists>)"
            ]
          },
          "metadata": {},
          "execution_count": 20
        },
        {
          "output_type": "display_data",
          "data": {
            "text/plain": [
              "<Figure size 640x480 with 1 Axes>"
            ],
            "image/png": "[encoded data removed]"
          },
          "metadata": {}
        }
      ]
    },
    {
      "cell_type": "code",
      "source": [
        "# Do by error analysis manually see through anomalies to include new features earlier ignored or make new features (x1**2)/x2 till get required accuracy"
      ],
      "metadata": {
        "id": "KkXP0jACbQUZ"
      },
      "execution_count": 21,
      "outputs": []
    },
    {
      "cell_type": "code",
      "source": [
        "# different from supervised as in supervised more examples are there for y=1 here very very few\n",
        "# supervised algorithm learns from present examples to classify future examples if similar to training examples but future anomalies vary different so this algorithm works better in that case"
      ],
      "metadata": {
        "id": "Tz4O_wlLs1hW"
      },
      "execution_count": 22,
      "outputs": []
    },
    {
      "cell_type": "code",
      "source": [
        "def estimate_gaussian(X):\n",
        "  m,n=X.shape\n",
        "  mu=np.zeros(n)\n",
        "  var=np.zeros(n)\n",
        "  for i in range(m):\n",
        "    mu+=X[i]\n",
        "  mu/=m\n",
        "  for i in range(m):\n",
        "    var+=(X[i]-mu)**2\n",
        "  var/=m\n",
        "  return mu,var"
      ],
      "metadata": {
        "id": "FNVFpRd8rbQx"
      },
      "execution_count": 23,
      "outputs": []
    },
    {
      "cell_type": "code",
      "source": [
        "def estimate_probability(X, mu, var):\n",
        "    k = len(mu)\n",
        "    if var.ndim == 1:\n",
        "        var = np.diag(var)\n",
        "    X = X - mu\n",
        "    p = (2* np.pi)**(-k/2) * np.linalg.det(var)**(-0.5) * \\\n",
        "        np.exp(-0.5 * np.sum(np.matmul(X, np.linalg.pinv(var)) * X, axis=1))\n",
        "    return p"
      ],
      "metadata": {
        "id": "A9AY2hPG8JfE"
      },
      "execution_count": 24,
      "outputs": []
    },
    {
      "cell_type": "code",
      "source": [
        "def optimal_epsilon(y_val, p_val):\n",
        "    best_epsilon = 0\n",
        "    best_F1 = 0\n",
        "    step_size = (max(p_val) - min(p_val)) / 1000\n",
        "\n",
        "    for epsilon in np.arange(min(p_val), max(p_val), step_size):\n",
        "        predictions=(p_val<epsilon)\n",
        "        F1=metrics.f1_score(predictions,y_val)\n",
        "        if F1 > best_F1:\n",
        "            best_F1 = F1\n",
        "            best_epsilon = epsilon\n",
        "    return best_epsilon, best_F1"
      ],
      "metadata": {
        "id": "hmNwDnsHy4LD"
      },
      "execution_count": 25,
      "outputs": []
    },
    {
      "cell_type": "code",
      "source": [
        "mu, var = estimate_gaussian(X_train)\n",
        "print(f\"mu and variance for the training data is {mu} and {var}\")"
      ],
      "metadata": {
        "colab": {
          "base_uri": "https://localhost:8080/"
        },
        "id": "0Cp76hWI09o9",
        "outputId": "6237c41e-bed6-4ce1-b252-a9cc4f9a5258"
      },
      "execution_count": 27,
      "outputs": [
        {
          "output_type": "stream",
          "name": "stdout",
          "text": [
            "mu and variance for the training data is [  4.93940034  -9.63726819  13.81470749 -10.4644888   -7.95622922\n",
            "  10.19950372  -6.01940755   7.96982896  -6.2531819    2.32451289\n",
            "   8.47372252] and [60.97489373 53.20572186 58.51546272 84.20403725 65.26859177 89.57487757\n",
            " 55.63349911 87.16233783 29.62926829 70.7852052  50.50356719]\n"
          ]
        }
      ]
    },
    {
      "cell_type": "code",
      "source": [
        "p_val= estimate_probability(X_val, mu, var)\n",
        "\n",
        "epsilon, F1 = optimal_epsilon(y_val, p_val)\n",
        "print(f\"The optimal F1 score we obtain is {F1} and epsilon value is {epsilon}\")"
      ],
      "metadata": {
        "colab": {
          "base_uri": "https://localhost:8080/"
        },
        "id": "nXjTi1BK1qtU",
        "outputId": "75311bf4-36c3-40b1-cc4d-a9840ddac269"
      },
      "execution_count": 28,
      "outputs": [
        {
          "output_type": "stream",
          "name": "stdout",
          "text": [
            "The optimal F1 score we obtain is 0.6153846153846154 and epsilon value is 1.377228890761358e-18\n"
          ]
        }
      ]
    }
  ]
}